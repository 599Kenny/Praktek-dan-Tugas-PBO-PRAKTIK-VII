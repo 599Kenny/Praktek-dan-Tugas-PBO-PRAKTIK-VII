{
  "nbformat": 4,
  "nbformat_minor": 0,
  "metadata": {
    "colab": {
      "name": "PER 4 Latihan 1 sampai 7. 5210411240_RIVALDI KENNY N - PBO 7",
      "provenance": []
    },
    "kernelspec": {
      "name": "python3",
      "display_name": "Python 3"
    },
    "language_info": {
      "name": "python"
    }
  },
  "cells": [
    {
      "cell_type": "markdown",
      "source": [
        "LATIHAN 1"
      ],
      "metadata": {
        "id": "bub-8jl2f-K0"
      }
    },
    {
      "cell_type": "code",
      "execution_count": 3,
      "metadata": {
        "id": "-ehA1emxIlja",
        "colab": {
          "base_uri": "https://localhost:8080/"
        },
        "outputId": "4ea6d675-1d4d-4e0f-a8c1-28d1aaba7e25"
      },
      "outputs": [
        {
          "output_type": "stream",
          "name": "stdout",
          "text": [
            "1\n"
          ]
        }
      ],
      "source": [
        "class Hitung:\n",
        "    def __init__(self):\n",
        "        self. __angkaRahasia=0\n",
        "        \n",
        "    def tampilkanHitung(self):\n",
        "        self. __angkaRahasia += 1\n",
        "        print(self. __angkaRahasia)\n",
        "\n",
        "hitungan=Hitung()\n",
        "hitungan.tampilkanHitung()"
      ]
    },
    {
      "cell_type": "markdown",
      "source": [
        "LATIHAN 2"
      ],
      "metadata": {
        "id": "Dez0OR84gCJa"
      }
    },
    {
      "cell_type": "code",
      "source": [
        "#semua variable bersifat publik\n",
        "\n",
        "class Mobil():\n",
        "    def __init__(self,jendela,pintu,mesin):\n",
        "        self.jendela=jendela\n",
        "        self.pintu=pintu\n",
        "        self.mesin=mesin\n",
        "\n",
        "audi=Mobil(4,5,\"Diesel\")\n",
        "print(audi.jendela)\n",
        "print(audi.pintu)\n",
        "print(audi.mesin)"
      ],
      "metadata": {
        "colab": {
          "base_uri": "https://localhost:8080/"
        },
        "id": "v23ohIj-d65t",
        "outputId": "5c4b3563-f8fa-4d2b-bc37-f7ae9fa14a93"
      },
      "execution_count": 4,
      "outputs": [
        {
          "output_type": "stream",
          "name": "stdout",
          "text": [
            "4\n",
            "5\n",
            "Diesel\n"
          ]
        }
      ]
    },
    {
      "cell_type": "markdown",
      "source": [
        "LATIHAN 3"
      ],
      "metadata": {
        "id": "3mEpQKAxgEuB"
      }
    },
    {
      "cell_type": "code",
      "source": [
        "class Utama:\n",
        "    def __init__(self):\n",
        "        self._a = 2\n",
        "        \n",
        "class Turunan(Utama):\n",
        "    def __init__(self):\n",
        "        #memanggil konstruktor pada kelas utama\n",
        "        Utama.__init__(self)\n",
        "        print(\"memanggil variable protected pada class utama:\",self._a)\n",
        "        \n",
        "        #memeodifikasi protected variable:\n",
        "        self._a = 3\n",
        "        print(\"memanggil variable protected yang dimodifikasi diluar class\",self._a)\n",
        "\n",
        "objek1 = Turunan()\n",
        "objek2 = Utama()\n",
        "\n",
        "#memanggil variable protected\n",
        "print(\"mengakses variable protected dari objek1: \",  objek1._a)\n",
        "print(\"mengakses variable protected dari objek2: \", objek2._a)"
      ],
      "metadata": {
        "colab": {
          "base_uri": "https://localhost:8080/"
        },
        "id": "L0ZyEyicd_lV",
        "outputId": "a160834a-8a46-4d97-cf67-36246c67406c"
      },
      "execution_count": 5,
      "outputs": [
        {
          "output_type": "stream",
          "name": "stdout",
          "text": [
            "memanggil variable protected pada class utama: 2\n",
            "memanggil variable protected yang dimodifikasi diluar class 3\n",
            "mengakses variable protected dari objek1:  3\n",
            "mengakses variable protected dari objek2:  2\n"
          ]
        }
      ]
    },
    {
      "cell_type": "markdown",
      "source": [
        "LATIHAN 4"
      ],
      "metadata": {
        "id": "2E_VWuQXgHkw"
      }
    },
    {
      "cell_type": "code",
      "source": [
        "#semua variable bersifat protected\n",
        "\n",
        "class Mobil():\n",
        "    def __init__(self,jendela,pintu,mesin):\n",
        "        self._jendela=jendela\n",
        "        self._pintu=pintu\n",
        "        self._mesin=mesin\n",
        "\n",
        "class Truk(Mobil):\n",
        "    def __init__(self,jendela,pintu,mesin,tipe):\n",
        "        super().__init__(jendela,pintu,mesin)\n",
        "        self.tipebak=tipe\n",
        "\n",
        "truk=Truk(4,4,\"Diesel\",\"bak terbuka\")\n",
        "print(truk._mesin)\n",
        "print(truk.tipebak)"
      ],
      "metadata": {
        "colab": {
          "base_uri": "https://localhost:8080/"
        },
        "id": "_Y7XEwBleDhL",
        "outputId": "f6f4aa63-5fc7-43a4-b29a-ea0d79260788"
      },
      "execution_count": 6,
      "outputs": [
        {
          "output_type": "stream",
          "name": "stdout",
          "text": [
            "Diesel\n",
            "bak terbuka\n"
          ]
        }
      ]
    },
    {
      "cell_type": "markdown",
      "source": [
        "LATIHAN 5"
      ],
      "metadata": {
        "id": "PmZP-u-vgMSv"
      }
    },
    {
      "cell_type": "code",
      "source": [
        "#fungsi private dan public\n",
        "\n",
        "class Pegawai:\n",
        "    __nama=\"\"\n",
        "    __alamat=\"\"\n",
        "    __gaji=0\n",
        "    \n",
        "    def __init__(self,nama,alamat):\n",
        "        self.__nama=nama\n",
        "        self.__alamat=alamat\n",
        "        \n",
        "    def __hitungGaji(self):\n",
        "        upahLembur=20000\n",
        "        gajiPokok=2000000\n",
        "        jumLembur=int(input(\"total jam lembur: \"))\n",
        "        self.__gaji=(upahLembur*jumLembur)+gajiPokok\n",
        "        \n",
        "    def tampilDetail(self):\n",
        "        print(\"\\n--Menghitung dan Menampilkan Detail Gaji Pegawai--\")\n",
        "        print(\"Nama: \", self.__nama)\n",
        "        print(\"Alamat: \", self.__alamat)\n",
        "        self.__hitungGaji()\n",
        "        print(\"Total Gaji: \", self.__gaji)\n",
        "        \n",
        "#membuat objek pegawai\n",
        "pgw1=Pegawai(\"Mikasa Ackerman\", \"Wall Rose\")\n",
        "pgw1.tampilDetail()\n",
        "\n",
        "pgw2=Pegawai(\"Saya Kisaragi\", \"prefektur Nagano\")\n",
        "pgw2.tampilDetail()"
      ],
      "metadata": {
        "colab": {
          "base_uri": "https://localhost:8080/"
        },
        "id": "Vm7EAQTyeVd9",
        "outputId": "a7cbc858-6c3b-4a0c-ce52-f1101038600d"
      },
      "execution_count": 7,
      "outputs": [
        {
          "output_type": "stream",
          "name": "stdout",
          "text": [
            "\n",
            "--Menghitung dan Menampilkan Detail Gaji Pegawai--\n",
            "Nama:  Mikasa Ackerman\n",
            "Alamat:  Wall Rose\n",
            "total jam lembur: 12\n",
            "Total Gaji:  2240000\n",
            "\n",
            "--Menghitung dan Menampilkan Detail Gaji Pegawai--\n",
            "Nama:  Saya Kisaragi\n",
            "Alamat:  prefektur Nagano\n",
            "total jam lembur: 8\n",
            "Total Gaji:  2160000\n"
          ]
        }
      ]
    },
    {
      "cell_type": "markdown",
      "source": [
        "LATIHAN 6"
      ],
      "metadata": {
        "id": "Ow8oYYSHgOwv"
      }
    },
    {
      "cell_type": "code",
      "source": [
        "class Segitiga:\n",
        "    def __init__(self, alas, tinggi):\n",
        "        self.alas = alas\n",
        "        self.tinggi = tinggi\n",
        "        self.luas = 0.5 * alas * tinggi\n",
        "        \n",
        "segitiga_besar = Segitiga(100,80)\n",
        "\n",
        "#akses variable public: alas, tinggi, dan luas dari luar kelas segitiga\n",
        "print(\"alas: \",segitiga_besar.alas)\n",
        "print(\"tinggi: \",segitiga_besar.tinggi)\n",
        "print(\"luas: \",segitiga_besar.luas)"
      ],
      "metadata": {
        "colab": {
          "base_uri": "https://localhost:8080/"
        },
        "id": "AdSAT7l0epjb",
        "outputId": "33c22506-0daa-4857-f3dc-e73a88ebe072"
      },
      "execution_count": 8,
      "outputs": [
        {
          "output_type": "stream",
          "name": "stdout",
          "text": [
            "alas:  100\n",
            "tinggi:  80\n",
            "luas:  4000.0\n"
          ]
        }
      ]
    },
    {
      "cell_type": "markdown",
      "source": [
        "LATIHAN 7"
      ],
      "metadata": {
        "id": "XReJdoEtgQV1"
      }
    },
    {
      "cell_type": "code",
      "source": [
        "class Mobil():\n",
        "    def __init__(self,jendela,pintu,mesin):\n",
        "        self.__jendela=jendela\n",
        "        self.__pintu=pintu\n",
        "        self.__mesin=mesin\n",
        "    \n",
        "    def Tampil(self):\n",
        "        print(\"Jendela :\", self.__jendela)\n",
        "        print(\"Pintu :\", self.__pintu)\n",
        "        print(\"Mesin :\", self.__mesin)\n",
        "        \n",
        "audi=Mobil(4,2,\"Diesel\")\n",
        "audi.Tampil()"
      ],
      "metadata": {
        "colab": {
          "base_uri": "https://localhost:8080/"
        },
        "id": "ANEpXKwkfBoz",
        "outputId": "50f4f5b4-2531-49cb-8af8-b0ee8737f670"
      },
      "execution_count": 9,
      "outputs": [
        {
          "output_type": "stream",
          "name": "stdout",
          "text": [
            "Jendela : 4\n",
            "Pintu : 2\n",
            "Mesin : Diesel\n"
          ]
        }
      ]
    }
  ]
}